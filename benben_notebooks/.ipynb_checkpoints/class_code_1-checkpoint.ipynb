{
 "cells": [
  {
   "cell_type": "code",
   "execution_count": 3,
   "metadata": {},
   "outputs": [],
   "source": [
    "import numpy as np "
   ]
  },
  {
   "cell_type": "markdown",
   "metadata": {},
   "source": [
    "# this is header"
   ]
  },
  {
   "cell_type": "code",
   "execution_count": 10,
   "metadata": {},
   "outputs": [
    {
     "name": "stdout",
     "output_type": "stream",
     "text": [
      "[  2.71828183   7.3890561   20.08553692]\n"
     ]
    }
   ],
   "source": [
    "V = [1,2,3]\n",
    "U = np.exp(V)\n",
    "print(U)"
   ]
  },
  {
   "cell_type": "code",
   "execution_count": 18,
   "metadata": {},
   "outputs": [
    {
     "name": "stdout",
     "output_type": "stream",
     "text": [
      "[[ 0.81250465  0.31663162  0.03394153]\n",
      " [ 0.56620239  0.88086481  0.50390229]\n",
      " [ 0.68597589  0.79400446  0.65424801]]\n",
      "[[ 2.81250465  2.31663162  2.03394153]\n",
      " [ 2.56620239  2.88086481  2.50390229]\n",
      " [ 2.68597589  2.79400446  2.65424801]]\n",
      "[[-1.18749535 -1.68336838 -1.96605847]\n",
      " [-1.43379761 -1.11913519 -1.49609771]\n",
      " [-1.31402411 -1.20599554 -1.34575199]]\n",
      "[[ 1.62500929  0.63326323  0.06788307]\n",
      " [ 1.13240479  1.76172963  1.00780458]\n",
      " [ 1.37195178  1.58800893  1.30849602]]\n",
      "[[ 0.40625232  0.15831581  0.01697077]\n",
      " [ 0.2831012   0.44043241  0.25195114]\n",
      " [ 0.34298794  0.39700223  0.327124  ]]\n"
     ]
    }
   ],
   "source": [
    "V = np.random.rand(3,3)\n",
    "print(V)\n",
    "b = 2\n",
    "out = V + 2\n",
    "print(out)\n",
    "out = V - 2\n",
    "print(out)\n",
    "out = V * 2\n",
    "print(out)\n",
    "out = V / 2\n",
    "print(out)\n"
   ]
  },
  {
   "cell_type": "code",
   "execution_count": 27,
   "metadata": {},
   "outputs": [
    {
     "name": "stdout",
     "output_type": "stream",
     "text": [
      "cal\n",
      "[  59.   239.   155.4   76.9]\n",
      "per:\n",
      "[[ 94.91525424   0.           2.83140283  88.42652796]\n",
      " [  2.03389831  43.51464435  33.46203346  10.40312094]\n",
      " [  3.05084746  56.48535565  63.70656371   1.17035111]]\n"
     ]
    }
   ],
   "source": [
    "A = np.array([[56.0, 0.0, 4.4, 68.0],\n",
    "             [1.2, 104.0, 52.0, 8.0],\n",
    "             [1.8, 135.0, 99.0, 0.9]])\n",
    "cal = A.sum(axis = 0)\n",
    "print('cal')\n",
    "print(cal)\n",
    "per = 100 * A / cal.reshape(1, 4)\n",
    "print('per:')\n",
    "print(per)"
   ]
  },
  {
   "cell_type": "code",
   "execution_count": null,
   "metadata": {},
   "outputs": [],
   "source": []
  }
 ],
 "metadata": {
  "kernelspec": {
   "display_name": "Python 3",
   "language": "python",
   "name": "python3"
  },
  "language_info": {
   "codemirror_mode": {
    "name": "ipython",
    "version": 3
   },
   "file_extension": ".py",
   "mimetype": "text/x-python",
   "name": "python",
   "nbconvert_exporter": "python",
   "pygments_lexer": "ipython3",
   "version": "3.5.2"
  }
 },
 "nbformat": 4,
 "nbformat_minor": 2
}
