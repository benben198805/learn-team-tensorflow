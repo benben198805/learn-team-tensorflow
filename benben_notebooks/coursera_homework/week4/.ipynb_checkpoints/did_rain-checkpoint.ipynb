{
 "cells": [
  {
   "cell_type": "code",
   "execution_count": 144,
   "metadata": {},
   "outputs": [
    {
     "name": "stdout",
     "output_type": "stream",
     "text": [
      "[(b'\"1948-01-01\"',  0.47,  51.,  42., b'\"TRUE\"')\n",
      " (b'\"1948-01-02\"',  0.59,  45.,  36., b'\"TRUE\"')\n",
      " (b'\"1948-01-03\"',  0.42,  45.,  35., b'\"TRUE\"') ...,\n",
      " (b'\"2017-12-12\"',  0.  ,  46.,  32., b'\"FALSE\"')\n",
      " (b'\"2017-12-13\"',  0.  ,  48.,  34., b'\"FALSE\"')\n",
      " (b'\"2017-12-14\"',  0.  ,  50.,  36., b'\"FALSE\"')]\n"
     ]
    }
   ],
   "source": [
    "import numpy as np\n",
    "\n",
    "raw_data = np.genfromtxt('seattleWeather_1948-2017.csv', delimiter=',',names=True,dtype=(list, float, float, float, list))\n",
    "print(raw_data)"
   ]
  },
  {
   "cell_type": "code",
   "execution_count": 195,
   "metadata": {},
   "outputs": [
    {
     "name": "stdout",
     "output_type": "stream",
     "text": [
      "[['1948-01-01' 0.47 51 42 True]\n",
      " ['1948-01-02' 0.59 45 36 True]\n",
      " ['1948-01-03' 0.42 45 35 True]\n",
      " ..., \n",
      " ['2017-12-12' 0.0 46 32 False]\n",
      " ['2017-12-13' 0.0 48 34 False]\n",
      " ['2017-12-14' 0.0 50 36 False]]\n",
      "shape: (25551, 5)\n",
      "max: [3.77 103 71]\n",
      "min: [0.0 4 0]\n"
     ]
    }
   ],
   "source": [
    "import pandas as pd\n",
    "from sklearn import preprocessing\n",
    "from sklearn.cross_validation import train_test_split\n",
    "from dnn_app_utils_v2 import *\n",
    "\n",
    "raw_data = pd.read_csv('seattleWeather_1948-2017.csv')\n",
    "\n",
    "print(raw_data.values)\n",
    "print('shape:', raw_data.values.shape)\n",
    "print('max:',np.max(raw_data.values[:,1:4], axis=0))\n",
    "print('min:', np.min(raw_data.values[:,1:4], axis=0))"
   ]
  },
  {
   "cell_type": "code",
   "execution_count": 277,
   "metadata": {},
   "outputs": [
    {
     "data": {
      "text/html": [
       "<div>\n",
       "<style scoped>\n",
       "    .dataframe tbody tr th:only-of-type {\n",
       "        vertical-align: middle;\n",
       "    }\n",
       "\n",
       "    .dataframe tbody tr th {\n",
       "        vertical-align: top;\n",
       "    }\n",
       "\n",
       "    .dataframe thead th {\n",
       "        text-align: right;\n",
       "    }\n",
       "</style>\n",
       "<table border=\"1\" class=\"dataframe\">\n",
       "  <thead>\n",
       "    <tr style=\"text-align: right;\">\n",
       "      <th></th>\n",
       "      <th>PRCP</th>\n",
       "      <th>TMAX</th>\n",
       "      <th>TMIN</th>\n",
       "      <th>RAIN</th>\n",
       "    </tr>\n",
       "  </thead>\n",
       "  <tbody>\n",
       "    <tr>\n",
       "      <th>count</th>\n",
       "      <td>25551.000000</td>\n",
       "      <td>25551.000000</td>\n",
       "      <td>25551.000000</td>\n",
       "      <td>25551.000000</td>\n",
       "    </tr>\n",
       "    <tr>\n",
       "      <th>mean</th>\n",
       "      <td>0.021160</td>\n",
       "      <td>0.561053</td>\n",
       "      <td>0.626961</td>\n",
       "      <td>0.999883</td>\n",
       "    </tr>\n",
       "    <tr>\n",
       "      <th>std</th>\n",
       "      <td>0.047613</td>\n",
       "      <td>0.129020</td>\n",
       "      <td>0.125251</td>\n",
       "      <td>0.010835</td>\n",
       "    </tr>\n",
       "    <tr>\n",
       "      <th>min</th>\n",
       "      <td>0.000000</td>\n",
       "      <td>0.000000</td>\n",
       "      <td>0.000000</td>\n",
       "      <td>0.000000</td>\n",
       "    </tr>\n",
       "    <tr>\n",
       "      <th>25%</th>\n",
       "      <td>0.000000</td>\n",
       "      <td>0.464646</td>\n",
       "      <td>0.535211</td>\n",
       "      <td>1.000000</td>\n",
       "    </tr>\n",
       "    <tr>\n",
       "      <th>50%</th>\n",
       "      <td>0.000000</td>\n",
       "      <td>0.545455</td>\n",
       "      <td>0.633803</td>\n",
       "      <td>1.000000</td>\n",
       "    </tr>\n",
       "    <tr>\n",
       "      <th>75%</th>\n",
       "      <td>0.019920</td>\n",
       "      <td>0.656566</td>\n",
       "      <td>0.732394</td>\n",
       "      <td>1.000000</td>\n",
       "    </tr>\n",
       "    <tr>\n",
       "      <th>max</th>\n",
       "      <td>1.000000</td>\n",
       "      <td>1.000000</td>\n",
       "      <td>1.000000</td>\n",
       "      <td>1.000000</td>\n",
       "    </tr>\n",
       "  </tbody>\n",
       "</table>\n",
       "</div>"
      ],
      "text/plain": [
       "               PRCP          TMAX          TMIN          RAIN\n",
       "count  25551.000000  25551.000000  25551.000000  25551.000000\n",
       "mean       0.021160      0.561053      0.626961      0.999883\n",
       "std        0.047613      0.129020      0.125251      0.010835\n",
       "min        0.000000      0.000000      0.000000      0.000000\n",
       "25%        0.000000      0.464646      0.535211      1.000000\n",
       "50%        0.000000      0.545455      0.633803      1.000000\n",
       "75%        0.019920      0.656566      0.732394      1.000000\n",
       "max        1.000000      1.000000      1.000000      1.000000"
      ]
     },
     "execution_count": 277,
     "metadata": {},
     "output_type": "execute_result"
    }
   ],
   "source": [
    "raw_data = pd.read_csv('seattleWeather_1948-2017.csv')\n",
    "# print(raw_data)\n",
    "\n",
    "# print(np.unique(raw_data['PRCP']))\n",
    "# print(np.unique(raw_data['TMAX']))\n",
    "# print(np.unique(raw_data['TMIN']))\n",
    "# print(np.unique(raw_data['RAIN']))\n",
    "\n",
    "label = raw_data['RAIN'].apply(lambda x: 1*x)\n",
    "label = raw_data['RAIN'].apply(lambda x: 0 if np.isnan(x) else 1)\n",
    "\n",
    "data = raw_data.loc[:,raw_data.columns[1:4]]\n",
    "data = data.apply(lambda x: (x - np.min(x)) / (np.max(x) - np.min(x)), axis=0)\n",
    "\n",
    "where_are_nan = np.isnan(data['PRCP'])  \n",
    "data['PRCP'][where_are_nan] = np.mean(data['PRCP'])\n",
    "\n",
    "all_data = data\n",
    "all_data['RAIN'] = label\n",
    "all_data.describe()\n",
    "\n",
    "# print(np.unique(all_data['PRCP']))\n",
    "# print(np.unique(all_data['TMAX']))\n",
    "# print(np.unique(all_data['TMIN']))\n",
    "# print(np.unique(all_data['RAIN']))"
   ]
  },
  {
   "cell_type": "code",
   "execution_count": 278,
   "metadata": {},
   "outputs": [
    {
     "name": "stdout",
     "output_type": "stream",
     "text": [
      "Number of training examples: 22995\n",
      "Number of testing examples: 2556\n",
      "train_x shape: (3, 22995)\n",
      "train_y shape: (1, 22995)\n",
      "test_x shape: (3, 2556)\n",
      "test_y shape: (1, 2556)\n"
     ]
    }
   ],
   "source": [
    "train_data, test_data = train_test_split(all_data,test_size=0.1, random_state=0)\n",
    "# print(train_data.shape)\n",
    "# print(test_data.shape)\n",
    "\n",
    "# print(train_data)\n",
    "# print(test_data)\n",
    "\n",
    "\n",
    "train_x = train_data.values[:, 0:3].T\n",
    "train_y = train_data.values[:, 3].reshape(1, -1)\n",
    "test_x = test_data.values[:, 0:3].T\n",
    "test_y = test_data.values[:, 3].reshape(1, -1)\n",
    "\n",
    "# Explore your dataset \n",
    "m_train = train_data.shape[0]\n",
    "m_test = test_data.shape[0]\n",
    "\n",
    "print (\"Number of training examples: \" + str(m_train))\n",
    "print (\"Number of testing examples: \" + str(m_test))\n",
    "print (\"train_x shape: \" + str(train_x.shape))\n",
    "print (\"train_y shape: \" + str(train_y.shape))\n",
    "print (\"test_x shape: \" + str(test_x.shape))\n",
    "print (\"test_y shape: \" + str(test_y.shape))\n",
    "\n"
   ]
  },
  {
   "cell_type": "code",
   "execution_count": 279,
   "metadata": {},
   "outputs": [],
   "source": [
    "# GRADED FUNCTION: L_layer_model\n",
    "def L_layer_model(X, Y, layers_dims, learning_rate = 0.0075, num_iterations = 3000, print_cost=False):#lr was 0.009\n",
    "    \"\"\"\n",
    "    Implements a L-layer neural network: [LINEAR->RELU]*(L-1)->LINEAR->SIGMOID.\n",
    "    \n",
    "    Arguments:\n",
    "    X -- data, numpy array of shape (number of examples, num_px * num_px * 3)\n",
    "    Y -- true \"label\" vector (containing 0 if cat, 1 if non-cat), of shape (1, number of examples)\n",
    "    layers_dims -- list containing the input size and each layer size, of length (number of layers + 1).\n",
    "    learning_rate -- learning rate of the gradient descent update rule\n",
    "    num_iterations -- number of iterations of the optimization loop\n",
    "    print_cost -- if True, it prints the cost every 100 steps\n",
    "    \n",
    "    Returns:\n",
    "    parameters -- parameters learnt by the model. They can then be used to predict.\n",
    "    \"\"\"\n",
    "\n",
    "    print(X.shape)\n",
    "    print(Y.shape)\n",
    "    print(X)\n",
    "    print(Y)\n",
    "\n",
    "    np.random.seed(1)\n",
    "    costs = []                         # keep track of cost\n",
    "    \n",
    "    # Parameters initialization.\n",
    "    ### START CODE HERE ###\n",
    "    parameters = initialize_parameters_deep(layers_dims)\n",
    "    ### END CODE HERE ###\n",
    "    \n",
    "    # Loop (gradient descent)\n",
    "    for i in range(0, num_iterations):\n",
    "\n",
    "        # Forward propagation: [LINEAR -> RELU]*(L-1) -> LINEAR -> SIGMOID.\n",
    "        ### START CODE HERE ### (≈ 1 line of code)\n",
    "        AL, caches = L_model_forward(X, parameters)\n",
    "        ### END CODE HERE ###\n",
    "        \n",
    "        # Compute cost.\n",
    "        ### START CODE HERE ### (≈ 1 line of code)\n",
    "        cost = compute_cost(AL, Y)\n",
    "        ### END CODE HERE ###\n",
    "    \n",
    "        # Backward propagation.\n",
    "        ### START CODE HERE ### (≈ 1 line of code)\n",
    "        grads = L_model_backward(AL, Y, caches)\n",
    "        ### END CODE HERE ###\n",
    " \n",
    "        # Update parameters.\n",
    "        ### START CODE HERE ### (≈ 1 line of code)\n",
    "        parameters = update_parameters(parameters, grads, learning_rate)\n",
    "        ### END CODE HERE ###\n",
    "                \n",
    "        # Print the cost every 100 training example\n",
    "        if print_cost and i % 100 == 0:\n",
    "            print (\"Cost after iteration %i: %f\" %(i, cost))\n",
    "        if print_cost and i % 100 == 0:\n",
    "            costs.append(cost)\n",
    "            \n",
    "    # plot the cost\n",
    "    plt.plot(np.squeeze(costs))\n",
    "    plt.ylabel('cost')\n",
    "    plt.xlabel('iterations (per tens)')\n",
    "    plt.title(\"Learning rate =\" + str(learning_rate))\n",
    "    plt.show()\n",
    "    \n",
    "    return parameters"
   ]
  },
  {
   "cell_type": "code",
   "execution_count": 282,
   "metadata": {},
   "outputs": [
    {
     "name": "stdout",
     "output_type": "stream",
     "text": [
      "(3, 22995)\n",
      "(1, 22995)\n",
      "[[ 0.          0.          0.02191235 ...,  0.00996016  0.          0.00398406]\n",
      " [ 0.71717172  0.80808081  0.64646465 ...,  0.48484848  0.72727273\n",
      "   0.65656566]\n",
      " [ 0.67605634  0.78873239  0.73239437 ...,  0.54929577  0.78873239\n",
      "   0.69014085]]\n",
      "[[ 1.  1.  1. ...,  1.  1.  1.]]\n",
      "Cost after iteration 0: 0.702292\n",
      "Cost after iteration 100: 0.475512\n",
      "Cost after iteration 200: 0.331294\n",
      "Cost after iteration 300: 0.225920\n",
      "Cost after iteration 400: 0.151541\n",
      "Cost after iteration 500: 0.101927\n",
      "Cost after iteration 600: 0.070107\n",
      "Cost after iteration 700: 0.049879\n",
      "Cost after iteration 800: 0.036822\n",
      "Cost after iteration 900: 0.028153\n",
      "Cost after iteration 1000: 0.022210\n",
      "Cost after iteration 1100: 0.018003\n",
      "Cost after iteration 1200: 0.014934\n",
      "Cost after iteration 1300: 0.012636\n",
      "Cost after iteration 1400: 0.010874\n",
      "Cost after iteration 1500: 0.009495\n",
      "Cost after iteration 1600: 0.008395\n",
      "Cost after iteration 1700: 0.007505\n",
      "Cost after iteration 1800: 0.006773\n",
      "Cost after iteration 1900: 0.006164\n",
      "Cost after iteration 2000: 0.005653\n",
      "Cost after iteration 2100: 0.005218\n",
      "Cost after iteration 2200: 0.004846\n",
      "Cost after iteration 2300: 0.004525\n",
      "Cost after iteration 2400: 0.004245\n"
     ]
    },
    {
     "data": {
      "image/png": "[encoded data removed]",
      "text/plain": [
       "<matplotlib.figure.Figure at 0x7f0a3aaaf470>"
      ]
     },
     "metadata": {},
     "output_type": "display_data"
    }
   ],
   "source": [
    "### CONSTANTS DEFINING THE MODEL ####\n",
    "layers_dims = [3, 5, 10, 5, 1]\n",
    "\n",
    "parameters = L_layer_model(train_x, train_y, layers_dims, num_iterations = 2500, print_cost = True)"
   ]
  },
  {
   "cell_type": "code",
   "execution_count": 283,
   "metadata": {},
   "outputs": [
    {
     "name": "stdout",
     "output_type": "stream",
     "text": [
      "Accuracy: 0.999869536856\n"
     ]
    }
   ],
   "source": [
    "pred_train = predict(train_x, train_y, parameters)"
   ]
  },
  {
   "cell_type": "code",
   "execution_count": 284,
   "metadata": {},
   "outputs": [
    {
     "name": "stdout",
     "output_type": "stream",
     "text": [
      "Accuracy: 1.0\n"
     ]
    }
   ],
   "source": [
    "pred_test = predict(test_x, test_y, parameters)"
   ]
  },
  {
   "cell_type": "code",
   "execution_count": null,
   "metadata": {},
   "outputs": [],
   "source": []
  }
 ],
 "metadata": {
  "kernelspec": {
   "display_name": "Python 3",
   "language": "python",
   "name": "python3"
  },
  "language_info": {
   "codemirror_mode": {
    "name": "ipython",
    "version": 3
   },
   "file_extension": ".py",
   "mimetype": "text/x-python",
   "name": "python",
   "nbconvert_exporter": "python",
   "pygments_lexer": "ipython3",
   "version": "3.5.2"
  }
 },
 "nbformat": 4,
 "nbformat_minor": 2
}
