{
 "cells": [
  {
   "cell_type": "code",
   "execution_count": 69,
   "metadata": {},
   "outputs": [],
   "source": [
    "import tensorflow as tf\n",
    "import numpy as np\n",
    "from tensorflow.examples.tutorials.mnist import input_data\n",
    "import time"
   ]
  },
  {
   "cell_type": "code",
   "execution_count": 70,
   "metadata": {},
   "outputs": [],
   "source": [
    "# Define paramaters for the model\n",
    "learning_rate = 0.01\n",
    "batch_size = 128\n",
    "n_epochs = 10"
   ]
  },
  {
   "cell_type": "code",
   "execution_count": 71,
   "metadata": {},
   "outputs": [
    {
     "name": "stdout",
     "output_type": "stream",
     "text": [
      "Extracting ../data/mnist/train-images-idx3-ubyte.gz\n",
      "Extracting ../data/mnist/train-labels-idx1-ubyte.gz\n",
      "Extracting ../data/mnist/t10k-images-idx3-ubyte.gz\n",
      "Extracting ../data/mnist/t10k-labels-idx1-ubyte.gz\n"
     ]
    }
   ],
   "source": [
    "# Step 1: Read in data\n",
    "# using TF Learn's built in function to load MNIST data to the folder data/mnist\n",
    "mnist = input_data.read_data_sets('../data/mnist', one_hot=True) "
   ]
  },
  {
   "cell_type": "code",
   "execution_count": 72,
   "metadata": {},
   "outputs": [
    {
     "name": "stdout",
     "output_type": "stream",
     "text": [
      "label: [ 0.  0.  1.  0.  0.  0.  0.  0.  0.  0.]\n"
     ]
    },
    {
     "data": {
      "image/png": "[encoded data removed]",
      "text/plain": [
       "<matplotlib.figure.Figure at 0x7fbe2d8954e0>"
      ]
     },
     "metadata": {},
     "output_type": "display_data"
    }
   ],
   "source": [
    "import matplotlib.pyplot as plt;  \n",
    "# print('data:', mnist.test.images[1])\n",
    "example = mnist.test.images[1]\n",
    "example = example.reshape((28, 28))\n",
    "\n",
    "plt.figure(1)\n",
    "plt.imshow(example)  \n",
    "\n",
    "print('label:',mnist.test.labels[1])"
   ]
  },
  {
   "cell_type": "code",
   "execution_count": 68,
   "metadata": {
    "scrolled": true
   },
   "outputs": [
    {
     "name": "stdout",
     "output_type": "stream",
     "text": [
      "Average loss epoch 0: 1.7224326615844852\n",
      "Average loss epoch 1: 0.43431359710115375\n",
      "Average loss epoch 2: 0.36113729458172006\n",
      "Average loss epoch 3: 0.3303489679153705\n",
      "Average loss epoch 4: 0.31729314604769776\n",
      "Average loss epoch 5: 0.3045820072987974\n",
      "Average loss epoch 6: 0.29662010603365085\n",
      "Average loss epoch 7: 0.2933259092636042\n",
      "Average loss epoch 8: 0.28949891261773786\n",
      "Average loss epoch 9: 0.2827778782669481\n",
      "[array([[ 0.65119135,  0.57683337,  0.18013728, ...,  0.1803472 ,\n",
      "         0.64853656,  0.26352227],\n",
      "       [ 0.58186078,  0.0686866 ,  0.56054699, ...,  0.03029239,\n",
      "         0.66838348,  0.93156648],\n",
      "       [ 0.98359787,  0.80355775,  0.65189707, ...,  0.98717546,\n",
      "         0.41403079,  0.05962741],\n",
      "       ..., \n",
      "       [ 0.77490592,  0.27797723,  0.48387015, ...,  0.54676986,\n",
      "         0.19933355,  0.35922968],\n",
      "       [ 0.90761292,  0.67390954,  0.17492986, ...,  0.74403679,\n",
      "         0.99096549,  0.35870218],\n",
      "       [ 0.54745293,  0.17515492,  0.86524522, ...,  0.07254374,\n",
      "         0.73648858,  0.2221638 ]], dtype=float32), array([[-0.22954105,  0.15849504, -0.2911993 , ..., -0.04486624,\n",
      "        -0.31179953, -0.20579839],\n",
      "       [-0.15153939,  0.20956869, -0.31832033, ..., -0.11300789,\n",
      "        -0.29847035, -0.14396107],\n",
      "       [-0.20774342,  0.10004273, -0.32168472, ..., -0.12195112,\n",
      "        -0.32556114, -0.13131782],\n",
      "       ..., \n",
      "       [-0.18924138,  0.1361599 , -0.26156783, ..., -0.11970256,\n",
      "        -0.29454562, -0.17075904],\n",
      "       [-0.12648539,  0.15821417, -0.36229709, ..., -0.04653639,\n",
      "        -0.30203098, -0.20108131],\n",
      "       [-0.16360824,  0.1543735 , -0.27010345, ..., -0.11676734,\n",
      "        -0.35447302, -0.13440317]], dtype=float32)]\n",
      "Total time: 6.150548219680786 seconds\n",
      "Optimization Finished!\n",
      "Accuracy 0.9235\n"
     ]
    }
   ],
   "source": [
    "\n",
    "\n",
    "# Step 2: create placeholders for features and labels\n",
    "# each image in the MNIST data is of shape 28*28 = 784\n",
    "# therefore, each image is represented with a 1x784 tensor\n",
    "# there are 10 classes for each image, corresponding to digits 0 - 9. \n",
    "\n",
    "X = tf.placeholder(tf.float32, [batch_size, 784], name=\"image\")\n",
    "Y = tf.placeholder(tf.float32, [batch_size, 10], name=\"label\")\n",
    "\n",
    "# Step 3: create weights and bias\n",
    "# weights and biases are initialized to 0\n",
    "# shape of w depends on the dimension of X and Y so that Y = X * w + b\n",
    "# shape of b depends on Y\n",
    "# tf.Variable(initial_value=None, trainable=True, collections=None,\n",
    "# name=None, dtype=None, ...)\n",
    "\n",
    "# X [1,128] -> Y [1,128]\n",
    "\n",
    "#  n * 50  50 x 128 \n",
    "\n",
    "\n",
    "W = tf.Variable(tf.random_uniform([784, 10]))\n",
    "\n",
    "b = tf.Variable(tf.zeros([batch_size, 10]))\n",
    "\n",
    "# Step 4: build model\n",
    "# the model that returns the logits.\n",
    "# this logits will be later passed through softmax layer\n",
    "# to get the probability distribution of possible label of the image\n",
    "# DO NOT DO SOFTMAX HERE\n",
    "# n * 784 * 784 * 10 = n * 10 \n",
    "\n",
    "logits = tf.matmul(X, W) + b\n",
    "\n",
    "# Step 5: define loss function\n",
    "# use cross entropy loss of the real labels with the softmax of logits\n",
    "# use the method:\n",
    "# tf.nn.softmax_cross_entropy_with_logits(logits, Y)\n",
    "# then use tf.reduce_mean to get the mean loss of the batch\n",
    "\n",
    "entropy = tf.nn.softmax_cross_entropy_with_logits(logits=logits, labels=Y)\n",
    "\n",
    "# computes the mean over all the examples in the batch\n",
    "loss = tf.reduce_mean(entropy)\n",
    "\n",
    "# Step 6: define training op\n",
    "# using gradient descent to minimize loss\n",
    "optimizer = tf.train.RMSPropOptimizer(learning_rate=0.001).minimize(loss);\n",
    "# optimizer = tf.train.GradientDescentOptimizer(learning_rate=0.001).minimize(loss);\n",
    "\n",
    "with tf.Session() as sess:\n",
    "    start_time = time.time()\n",
    "    sess.run(tf.global_variables_initializer())\t\n",
    "    n_batches = int(mnist.train.num_examples/batch_size)\n",
    "    for i in range(n_epochs): # train the model n_epochs times\n",
    "        total_loss = 0\n",
    "\n",
    "        for _ in range(n_batches):\n",
    "            X_batch, Y_batch = mnist.train.next_batch(batch_size)\n",
    "            # TO-DO: run optimizer + fetch loss_batch\n",
    "            _, loss_batch = sess.run([optimizer, loss], feed_dict={X:X_batch, Y:Y_batch})\n",
    "            # \n",
    "            total_loss += loss_batch\n",
    "        print('Average loss epoch {0}: {1}'.format(i, total_loss/n_batches))\n",
    "    \n",
    "    print(sess.run([W, b]))\n",
    "    print('Total time: {0} seconds'.format(time.time() - start_time))\n",
    "\n",
    "    print('Optimization Finished!') # should be around 0.35 after 25 epochs\n",
    "\n",
    "    # test the model\n",
    "    n_batches = int(mnist.test.num_examples/batch_size)\n",
    "    total_correct_preds = 0\n",
    "    for i in range(n_batches):\n",
    "        X_batch, Y_batch = mnist.test.next_batch(batch_size)\n",
    "        _, loss_batch, logits_batch = sess.run([optimizer, loss, logits], feed_dict={X: X_batch, Y:Y_batch}) \n",
    "        preds = tf.nn.softmax(logits_batch)\n",
    "        correct_preds = tf.equal(tf.argmax(preds, 1), tf.argmax(Y_batch, 1))\n",
    "        accuracy = tf.reduce_sum(tf.cast(correct_preds, tf.float32)) # need numpy.count_nonzero(boolarr) :(\n",
    "        total_correct_preds += sess.run(accuracy)\n",
    "\n",
    "    print('Accuracy {0}'.format(total_correct_preds/mnist.test.num_examples))"
   ]
  },
  {
   "cell_type": "markdown",
   "metadata": {},
   "source": [
    "## 不同优化方法的准确率\n",
    "* GradientDescentOptimizer:0.8429\n",
    "* AdadeltaOptimizer:0.7062\n",
    "* AdagradOptimizer:0.851\n",
    "* AdamOptimizer:0.924\n",
    "* FtrlOptimizer:0.8507\n",
    "* RMSPropOptimizer:0.9249\n",
    "\n",
    "## RMSPropOptimizer 不同学习率优化结果\n",
    "* 0.001: 0.9241\n",
    "* 0.005: 0.9258\n",
    "* 0.01:  0.9249\n",
    "\n",
    "\n",
    "## RMSPropOptimizer 不同迭代次数的结果\n",
    "learning_rate = 0.01\n",
    "\n",
    "* 10次：0.9241\n",
    "* 30次：0.9255\n",
    "* 100次：0.926"
   ]
  }
 ],
 "metadata": {
  "kernelspec": {
   "display_name": "Python 3",
   "language": "python",
   "name": "python3"
  },
  "language_info": {
   "codemirror_mode": {
    "name": "ipython",
    "version": 3
   },
   "file_extension": ".py",
   "mimetype": "text/x-python",
   "name": "python",
   "nbconvert_exporter": "python",
   "pygments_lexer": "ipython3",
   "version": "3.5.2"
  }
 },
 "nbformat": 4,
 "nbformat_minor": 2
}
