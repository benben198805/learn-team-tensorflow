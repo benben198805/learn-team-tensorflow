{
 "cells": [
  {
   "cell_type": "markdown",
   "metadata": {},
   "source": [
    "## Context:\n",
    "Besides coffee, grunge and technology companies, one of the things that Seattle is most famous for is how often it rains. This dataset contains complete records of daily rainfall patterns from January 1st, 1948 to December 12, 2017.\n",
    "\n",
    "## Content\n",
    "This data was collected at the Seattle-Tacoma International Airport. The dataset contains five columns:\n",
    "\n",
    "DATE = the date of the observation\n",
    "PRCP = the amount of precipitation, in inches\n",
    "TMAX = the maximum temperature for that day, in degrees Fahrenheit\n",
    "TMIN = the minimum temperature for that day, in degrees Fahrenheit\n",
    "RAIN = TRUE if rain was observed on that day, FALSE if it was not\n",
    "\n",
    "## Acknowledgements:\n",
    "This dataset was compiled by NOAA and is in the public domain."
   ]
  },
  {
   "cell_type": "code",
   "execution_count": 356,
   "metadata": {},
   "outputs": [
    {
     "name": "stdout",
     "output_type": "stream",
     "text": [
      "[(b'\"1948-01-01\"',  0.47,  51.,  42., b'\"TRUE\"')\n",
      " (b'\"1948-01-02\"',  0.59,  45.,  36., b'\"TRUE\"')\n",
      " (b'\"1948-01-03\"',  0.42,  45.,  35., b'\"TRUE\"') ...,\n",
      " (b'\"2017-12-12\"',  0.  ,  46.,  32., b'\"FALSE\"')\n",
      " (b'\"2017-12-13\"',  0.  ,  48.,  34., b'\"FALSE\"')\n",
      " (b'\"2017-12-14\"',  0.  ,  50.,  36., b'\"FALSE\"')]\n"
     ]
    }
   ],
   "source": [
    "import numpy as np\n",
    "\n",
    "raw_data = np.genfromtxt('seattleWeather_1948-2017.csv', delimiter=',',names=True,dtype=(list, float, float, float, list))\n",
    "print(raw_data)"
   ]
  },
  {
   "cell_type": "code",
   "execution_count": 357,
   "metadata": {},
   "outputs": [
    {
     "name": "stdout",
     "output_type": "stream",
     "text": [
      "[['1948-01-01' 0.47 51 42 True]\n",
      " ['1948-01-02' 0.59 45 36 True]\n",
      " ['1948-01-03' 0.42 45 35 True]\n",
      " ..., \n",
      " ['2017-12-12' 0.0 46 32 False]\n",
      " ['2017-12-13' 0.0 48 34 False]\n",
      " ['2017-12-14' 0.0 50 36 False]]\n",
      "shape: (25551, 5)\n",
      "max: [3.77 103 71]\n",
      "min: [0.0 4 0]\n"
     ]
    }
   ],
   "source": [
    "import pandas as pd\n",
    "from sklearn import preprocessing\n",
    "from sklearn.cross_validation import train_test_split\n",
    "from dnn_app_utils_v2 import *\n",
    "\n",
    "raw_data = pd.read_csv('seattleWeather_1948-2017.csv')\n",
    "\n",
    "print(raw_data.values)\n",
    "print('shape:', raw_data.values.shape)\n",
    "print('max:',np.max(raw_data.values[:,1:4], axis=0))\n",
    "print('min:', np.min(raw_data.values[:,1:4], axis=0))"
   ]
  },
  {
   "cell_type": "code",
   "execution_count": 364,
   "metadata": {},
   "outputs": [
    {
     "name": "stdout",
     "output_type": "stream",
     "text": [
      "[18415]\n",
      "[18416]\n",
      "[21067]\n"
     ]
    },
    {
     "data": {
      "text/html": [
       "<div>\n",
       "<style scoped>\n",
       "    .dataframe tbody tr th:only-of-type {\n",
       "        vertical-align: middle;\n",
       "    }\n",
       "\n",
       "    .dataframe tbody tr th {\n",
       "        vertical-align: top;\n",
       "    }\n",
       "\n",
       "    .dataframe thead th {\n",
       "        text-align: right;\n",
       "    }\n",
       "</style>\n",
       "<table border=\"1\" class=\"dataframe\">\n",
       "  <thead>\n",
       "    <tr style=\"text-align: right;\">\n",
       "      <th></th>\n",
       "      <th>PRCP</th>\n",
       "      <th>TMAX</th>\n",
       "      <th>TMIN</th>\n",
       "      <th>RAIN</th>\n",
       "    </tr>\n",
       "  </thead>\n",
       "  <tbody>\n",
       "    <tr>\n",
       "      <th>count</th>\n",
       "      <td>25551.000000</td>\n",
       "      <td>25551.000000</td>\n",
       "      <td>25551.000000</td>\n",
       "      <td>25551.000000</td>\n",
       "    </tr>\n",
       "    <tr>\n",
       "      <th>mean</th>\n",
       "      <td>0.021160</td>\n",
       "      <td>0.561053</td>\n",
       "      <td>0.626961</td>\n",
       "      <td>0.426715</td>\n",
       "    </tr>\n",
       "    <tr>\n",
       "      <th>std</th>\n",
       "      <td>0.047613</td>\n",
       "      <td>0.129020</td>\n",
       "      <td>0.125251</td>\n",
       "      <td>0.494610</td>\n",
       "    </tr>\n",
       "    <tr>\n",
       "      <th>min</th>\n",
       "      <td>0.000000</td>\n",
       "      <td>0.000000</td>\n",
       "      <td>0.000000</td>\n",
       "      <td>0.000000</td>\n",
       "    </tr>\n",
       "    <tr>\n",
       "      <th>25%</th>\n",
       "      <td>0.000000</td>\n",
       "      <td>0.464646</td>\n",
       "      <td>0.535211</td>\n",
       "      <td>0.000000</td>\n",
       "    </tr>\n",
       "    <tr>\n",
       "      <th>50%</th>\n",
       "      <td>0.000000</td>\n",
       "      <td>0.545455</td>\n",
       "      <td>0.633803</td>\n",
       "      <td>0.000000</td>\n",
       "    </tr>\n",
       "    <tr>\n",
       "      <th>75%</th>\n",
       "      <td>0.019920</td>\n",
       "      <td>0.656566</td>\n",
       "      <td>0.732394</td>\n",
       "      <td>1.000000</td>\n",
       "    </tr>\n",
       "    <tr>\n",
       "      <th>max</th>\n",
       "      <td>1.000000</td>\n",
       "      <td>1.000000</td>\n",
       "      <td>1.000000</td>\n",
       "      <td>1.000000</td>\n",
       "    </tr>\n",
       "  </tbody>\n",
       "</table>\n",
       "</div>"
      ],
      "text/plain": [
       "               PRCP          TMAX          TMIN          RAIN\n",
       "count  25551.000000  25551.000000  25551.000000  25551.000000\n",
       "mean       0.021160      0.561053      0.626961      0.426715\n",
       "std        0.047613      0.129020      0.125251      0.494610\n",
       "min        0.000000      0.000000      0.000000      0.000000\n",
       "25%        0.000000      0.464646      0.535211      0.000000\n",
       "50%        0.000000      0.545455      0.633803      0.000000\n",
       "75%        0.019920      0.656566      0.732394      1.000000\n",
       "max        1.000000      1.000000      1.000000      1.000000"
      ]
     },
     "execution_count": 364,
     "metadata": {},
     "output_type": "execute_result"
    }
   ],
   "source": [
    "raw_data = pd.read_csv('seattleWeather_1948-2017.csv')\n",
    "\n",
    "label = raw_data['RAIN'].apply(lambda x: 1*x)\n",
    "locations = np.argwhere(np.isnan(label))\n",
    "for i in locations:\n",
    "    label[i] = 1\n",
    "\n",
    "data = raw_data.loc[:,raw_data.columns[1:4]]\n",
    "data = data.apply(lambda x: (x - np.min(x)) / (np.max(x) - np.min(x)), axis=0)\n",
    "\n",
    "where_are_nan = np.isnan(data['PRCP'])  \n",
    "data['PRCP'][where_are_nan] = np.mean(data['PRCP'])\n",
    "\n",
    "all_data = data\n",
    "all_data['RAIN'] = label\n",
    "all_data.describe()"
   ]
  },
  {
   "cell_type": "code",
   "execution_count": 400,
   "metadata": {},
   "outputs": [],
   "source": [
    "DAY = 5\n",
    "instanceCount = oneDayData.shape[0]\n",
    "\n",
    "zeros = np.zeros((DAY, all_data.shape[1]))\n",
    "oneDayData = np.vstack((all_data, zeros))\n",
    "\n",
    "twoDayData = np.vstack((oneDayData[1: instanceCount], oneDayData[0]))\n",
    "threeDayData = np.vstack((twoDayData[1: instanceCount], twoDayData[0]))\n",
    "fourDayData = np.vstack((threeDayData[1: instanceCount], threeDayData[0]))\n",
    "fiveDayData = np.vstack((fourDayData[1: instanceCount], fourDayData[0]))\n",
    "\n",
    "fiveDaysData = np.hstack((oneDayData, twoDayData, threeDayData, fourDayData, fiveDayData))[0: instanceCount-5, :]"
   ]
  },
  {
   "cell_type": "code",
   "execution_count": 405,
   "metadata": {},
   "outputs": [
    {
     "name": "stdout",
     "output_type": "stream",
     "text": [
      "Number of training examples: 22995\n",
      "Number of testing examples: 2556\n",
      "train_x shape: (19, 22995)\n",
      "train_y shape: (1, 22995)\n",
      "test_x shape: (19, 2556)\n",
      "test_y shape: (1, 2556)\n"
     ]
    }
   ],
   "source": [
    "label_count = fiveDaysData.shape[1]\n",
    "train_data, test_data = train_test_split(fiveDaysData, test_size=0.1, random_state=0)\n",
    "\n",
    "train_x = train_data[:, 0:label_count-1].T\n",
    "train_y = train_data[:,label_count-1].reshape(1, -1)\n",
    "test_x = test_data[:, 0:label_count-1].T\n",
    "test_y = test_data[:, label_count-1].reshape(1, -1)\n",
    "\n",
    "m_train = train_data.shape[0]\n",
    "m_test = test_data.shape[0]\n",
    "\n",
    "print (\"Number of training examples: \" + str(m_train))\n",
    "print (\"Number of testing examples: \" + str(m_test))\n",
    "print (\"train_x shape: \" + str(train_x.shape))\n",
    "print (\"train_y shape: \" + str(train_y.shape))\n",
    "print (\"test_x shape: \" + str(test_x.shape))\n",
    "print (\"test_y shape: \" + str(test_y.shape))"
   ]
  },
  {
   "cell_type": "code",
   "execution_count": 406,
   "metadata": {},
   "outputs": [],
   "source": [
    "# GRADED FUNCTION: L_layer_model\n",
    "def L_layer_model(X, Y, layers_dims, learning_rate = 0.0075, num_iterations = 3000, print_cost=False):#lr was 0.009\n",
    "    \"\"\"\n",
    "    Implements a L-layer neural network: [LINEAR->RELU]*(L-1)->LINEAR->SIGMOID.\n",
    "    \n",
    "    Arguments:\n",
    "    X -- data, numpy array of shape (number of examples, num_px * num_px * 3)\n",
    "    Y -- true \"label\" vector (containing 0 if cat, 1 if non-cat), of shape (1, number of examples)\n",
    "    layers_dims -- list containing the input size and each layer size, of length (number of layers + 1).\n",
    "    learning_rate -- learning rate of the gradient descent update rule\n",
    "    num_iterations -- number of iterations of the optimization loop\n",
    "    print_cost -- if True, it prints the cost every 100 steps\n",
    "    \n",
    "    Returns:\n",
    "    parameters -- parameters learnt by the model. They can then be used to predict.\n",
    "    \"\"\"\n",
    "\n",
    "    print(X.shape)\n",
    "    print(Y.shape)\n",
    "    print(X)\n",
    "    print(Y)\n",
    "\n",
    "    np.random.seed(1)\n",
    "    costs = []                         # keep track of cost\n",
    "    \n",
    "    # Parameters initialization.\n",
    "    ### START CODE HERE ###\n",
    "    parameters = initialize_parameters_deep(layers_dims)\n",
    "    ### END CODE HERE ###\n",
    "    \n",
    "    # Loop (gradient descent)\n",
    "    for i in range(0, num_iterations):\n",
    "\n",
    "        # Forward propagation: [LINEAR -> RELU]*(L-1) -> LINEAR -> SIGMOID.\n",
    "        ### START CODE HERE ### (≈ 1 line of code)\n",
    "        AL, caches = L_model_forward(X, parameters)\n",
    "        ### END CODE HERE ###\n",
    "        \n",
    "        # Compute cost.\n",
    "        ### START CODE HERE ### (≈ 1 line of code)\n",
    "        cost = compute_cost(AL, Y)\n",
    "        ### END CODE HERE ###\n",
    "    \n",
    "        # Backward propagation.\n",
    "        ### START CODE HERE ### (≈ 1 line of code)\n",
    "        grads = L_model_backward(AL, Y, caches)\n",
    "        ### END CODE HERE ###\n",
    " \n",
    "        # Update parameters.\n",
    "        ### START CODE HERE ### (≈ 1 line of code)\n",
    "        parameters = update_parameters(parameters, grads, learning_rate)\n",
    "        ### END CODE HERE ###\n",
    "                \n",
    "        # Print the cost every 100 training example\n",
    "        if print_cost and i % 100 == 0:\n",
    "            print (\"Cost after iteration %i: %f\" %(i, cost))\n",
    "        if print_cost and i % 100 == 0:\n",
    "            costs.append(cost)\n",
    "            \n",
    "    # plot the cost\n",
    "    plt.plot(np.squeeze(costs))\n",
    "    plt.ylabel('cost')\n",
    "    plt.xlabel('iterations (per tens)')\n",
    "    plt.title(\"Learning rate =\" + str(learning_rate))\n",
    "    plt.show()\n",
    "    \n",
    "    return parameters"
   ]
  },
  {
   "cell_type": "code",
   "execution_count": 410,
   "metadata": {},
   "outputs": [
    {
     "name": "stdout",
     "output_type": "stream",
     "text": [
      "(19, 22995)\n",
      "(1, 22995)\n",
      "[[ 0.          0.          0.02191235 ...,  0.00996016  0.          0.00398406]\n",
      " [ 0.71717172  0.80808081  0.64646465 ...,  0.48484848  0.72727273\n",
      "   0.65656566]\n",
      " [ 0.67605634  0.78873239  0.73239437 ...,  0.54929577  0.78873239\n",
      "   0.69014085]\n",
      " ..., \n",
      " [ 0.          0.          0.03984064 ...,  0.03386454  0.          0.00199203]\n",
      " [ 0.63636364  0.67676768  0.5959596  ...,  0.45454545  0.78787879\n",
      "   0.61616162]\n",
      " [ 0.71830986  0.8028169   0.76056338 ...,  0.61971831  0.78873239\n",
      "   0.70422535]]\n",
      "[[ 0.  0.  1. ...,  1.  0.  1.]]\n",
      "Cost after iteration 0: 0.692099\n",
      "Cost after iteration 100: 0.686618\n",
      "Cost after iteration 200: 0.683577\n",
      "Cost after iteration 300: 0.681198\n",
      "Cost after iteration 400: 0.678784\n",
      "Cost after iteration 500: 0.675808\n",
      "Cost after iteration 600: 0.671684\n",
      "Cost after iteration 700: 0.665238\n",
      "Cost after iteration 800: 0.640368\n",
      "Cost after iteration 900: 0.623811\n",
      "Cost after iteration 1000: 0.611579\n",
      "Cost after iteration 1100: 0.602243\n",
      "Cost after iteration 1200: 0.595066\n",
      "Cost after iteration 1300: 0.589399\n",
      "Cost after iteration 1400: 0.584845\n",
      "Cost after iteration 1500: 0.581098\n",
      "Cost after iteration 1600: 0.577930\n",
      "Cost after iteration 1700: 0.575164\n",
      "Cost after iteration 1800: 0.572723\n",
      "Cost after iteration 1900: 0.570532\n",
      "Cost after iteration 2000: 0.568522\n",
      "Cost after iteration 2100: 0.566635\n",
      "Cost after iteration 2200: 0.564807\n",
      "Cost after iteration 2300: 0.563011\n",
      "Cost after iteration 2400: 0.561210\n"
     ]
    },
    {
     "data": {
      "image/png": "[encoded data removed]",
      "text/plain": [
       "<matplotlib.figure.Figure at 0x7f0a398b1630>"
      ]
     },
     "metadata": {},
     "output_type": "display_data"
    }
   ],
   "source": [
    "### CONSTANTS DEFINING THE MODEL ####\n",
    "layers_dims = [19, 20, 10, 8, 3, 1]\n",
    "\n",
    "parameters = L_layer_model(train_x, train_y, layers_dims, num_iterations = 2500, print_cost = True)"
   ]
  },
  {
   "cell_type": "code",
   "execution_count": 415,
   "metadata": {},
   "outputs": [
    {
     "name": "stdout",
     "output_type": "stream",
     "text": [
      "Accuracy: 0.714981517721\n"
     ]
    }
   ],
   "source": [
    "pred_train = predict(train_x, train_y, parameters)"
   ]
  },
  {
   "cell_type": "code",
   "execution_count": 416,
   "metadata": {},
   "outputs": [
    {
     "name": "stdout",
     "output_type": "stream",
     "text": [
      "Accuracy: 0.715571205008\n"
     ]
    }
   ],
   "source": [
    "pred_test = predict(test_x, test_y, parameters)"
   ]
  },
  {
   "cell_type": "code",
   "execution_count": null,
   "metadata": {},
   "outputs": [],
   "source": []
  }
 ],
 "metadata": {
  "kernelspec": {
   "display_name": "Python 3",
   "language": "python",
   "name": "python3"
  },
  "language_info": {
   "codemirror_mode": {
    "name": "ipython",
    "version": 3
   },
   "file_extension": ".py",
   "mimetype": "text/x-python",
   "name": "python",
   "nbconvert_exporter": "python",
   "pygments_lexer": "ipython3",
   "version": "3.5.2"
  }
 },
 "nbformat": 4,
 "nbformat_minor": 2
}
