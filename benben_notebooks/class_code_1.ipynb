{
 "cells": [
  {
   "cell_type": "code",
   "execution_count": 35,
   "metadata": {},
   "outputs": [],
   "source": [
    "import numpy as np "
   ]
  },
  {
   "cell_type": "markdown",
   "metadata": {},
   "source": [
    "# this is header\n",
    "##123\n"
   ]
  },
  {
   "cell_type": "code",
   "execution_count": 36,
   "metadata": {},
   "outputs": [
    {
     "name": "stdout",
     "output_type": "stream",
     "text": [
      "[  2.71828183   7.3890561   20.08553692]\n"
     ]
    }
   ],
   "source": [
    "V = [1,2,3]\n",
    "U = np.exp(V)\n",
    "print(U)"
   ]
  },
  {
   "cell_type": "code",
   "execution_count": 33,
   "metadata": {},
   "outputs": [
    {
     "name": "stdout",
     "output_type": "stream",
     "text": [
      "[[ 0.31255674  0.09385136  0.26955278]\n",
      " [ 0.88494633  0.21524468  0.93963532]\n",
      " [ 0.43713214  0.70136132  0.11698503]]\n",
      "[[ 2.31255674  2.09385136  2.26955278]\n",
      " [ 2.88494633  2.21524468  2.93963532]\n",
      " [ 2.43713214  2.70136132  2.11698503]]\n",
      "[[-1.68744326 -1.90614864 -1.73044722]\n",
      " [-1.11505367 -1.78475532 -1.06036468]\n",
      " [-1.56286786 -1.29863868 -1.88301497]]\n",
      "[[ 0.62511347  0.18770272  0.53910556]\n",
      " [ 1.76989266  0.43048936  1.87927064]\n",
      " [ 0.87426427  1.40272265  0.23397005]]\n",
      "[[ 0.15627837  0.04692568  0.13477639]\n",
      " [ 0.44247316  0.10762234  0.46981766]\n",
      " [ 0.21856607  0.35068066  0.05849251]]\n"
     ]
    }
   ],
   "source": [
    "V = np.random.rand(3,3)\n",
    "print(V)\n",
    "b = 2\n",
    "out = V + 2\n",
    "print(out)\n",
    "out = V - 2\n",
    "print(out)\n",
    "out = V * 2\n",
    "print(out)\n",
    "out = V / 2\n",
    "print(out)\n"
   ]
  },
  {
   "cell_type": "code",
   "execution_count": 34,
   "metadata": {},
   "outputs": [
    {
     "name": "stdout",
     "output_type": "stream",
     "text": [
      "cal\n",
      "[  59.   239.   155.4   76.9]\n",
      "per:\n",
      "[[ 94.91525424   0.           2.83140283  88.42652796]\n",
      " [  2.03389831  43.51464435  33.46203346  10.40312094]\n",
      " [  3.05084746  56.48535565  63.70656371   1.17035111]]\n"
     ]
    }
   ],
   "source": [
    "A = np.array([[56.0, 0.0, 4.4, 68.0],\n",
    "             [1.2, 104.0, 52.0, 8.0],\n",
    "             [1.8, 135.0, 99.0, 0.9]])\n",
    "cal = A.sum(axis = 0)\n",
    "print('cal')\n",
    "print(cal)\n",
    "per = 100 * A / cal.reshape(1, 4)\n",
    "print('per:')\n",
    "print(per)"
   ]
  },
  {
   "cell_type": "code",
   "execution_count": null,
   "metadata": {},
   "outputs": [],
   "source": []
  },
  {
   "cell_type": "code",
   "execution_count": null,
   "metadata": {},
   "outputs": [],
   "source": []
  },
  {
   "cell_type": "code",
   "execution_count": null,
   "metadata": {},
   "outputs": [],
   "source": []
  },
  {
   "cell_type": "code",
   "execution_count": null,
   "metadata": {},
   "outputs": [],
   "source": []
  }
 ],
 "metadata": {
  "kernelspec": {
   "display_name": "Python 3",
   "language": "python",
   "name": "python3"
  },
  "language_info": {
   "codemirror_mode": {
    "name": "ipython",
    "version": 3
   },
   "file_extension": ".py",
   "mimetype": "text/x-python",
   "name": "python",
   "nbconvert_exporter": "python",
   "pygments_lexer": "ipython3",
   "version": "3.5.2"
  }
 },
 "nbformat": 4,
 "nbformat_minor": 2
}
