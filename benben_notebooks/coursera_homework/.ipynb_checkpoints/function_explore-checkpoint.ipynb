{
 "cells": [
  {
   "cell_type": "markdown",
   "metadata": {},
   "source": [
    "## 讲解"
   ]
  },
  {
   "cell_type": "code",
   "execution_count": 2,
   "metadata": {},
   "outputs": [],
   "source": [
    "import numpy as np"
   ]
  },
  {
   "cell_type": "code",
   "execution_count": 3,
   "metadata": {},
   "outputs": [
    {
     "name": "stdout",
     "output_type": "stream",
     "text": [
      "[[0 1]\n",
      " [2 3]\n",
      " [4 5]]\n"
     ]
    }
   ],
   "source": [
    "a = np.arange(6).reshape((3, 2))\n",
    "print(a)"
   ]
  },
  {
   "cell_type": "code",
   "execution_count": 4,
   "metadata": {},
   "outputs": [
    {
     "name": "stdout",
     "output_type": "stream",
     "text": [
      "[[0 1]\n",
      " [2 3]\n",
      " [4 5]]\n"
     ]
    }
   ],
   "source": [
    "a = np.arange(6).reshape((3, -1))\n",
    "print(a)"
   ]
  },
  {
   "cell_type": "code",
   "execution_count": 5,
   "metadata": {},
   "outputs": [
    {
     "name": "stdout",
     "output_type": "stream",
     "text": [
      "[[8 5 4]\n",
      " [3 2 2]\n",
      " [7 5 6]]\n",
      "[[8]\n",
      " [3]\n",
      " [7]\n",
      " [5]\n",
      " [2]\n",
      " [5]\n",
      " [4]\n",
      " [2]\n",
      " [6]]\n",
      "[[8]\n",
      " [5]\n",
      " [4]\n",
      " [3]\n",
      " [2]\n",
      " [2]\n",
      " [7]\n",
      " [5]\n",
      " [6]]\n"
     ]
    }
   ],
   "source": [
    "c = np.random.randint(0, 10, size=(3,3))\n",
    "print(c)\n",
    "\n",
    "reshape_F = np.reshape(c, (9, 1), order='F')\n",
    "print(reshape_F)\n",
    "\n",
    "\n",
    "reshape_C = np.reshape(c, (9, 1), order='C')\n",
    "print(reshape_C)\n"
   ]
  },
  {
   "cell_type": "code",
   "execution_count": 10,
   "metadata": {},
   "outputs": [
    {
     "name": "stdout",
     "output_type": "stream",
     "text": [
      "dot = [202528]\n",
      " ----- Computation time = 20.757437000000103ms\n",
      "dot = [[202528]]\n",
      " ----- Computation time = 0.16086900000011894ms\n"
     ]
    }
   ],
   "source": [
    "import time\n",
    "\n",
    "x1 = np.random.randint(0, 10, size=(10000, 1))\n",
    "x2 = np.random.randint(0, 10, size=(10000, 1))\n",
    "\n",
    "### CLASSIC DOT PRODUCT OF VECTORS IMPLEMENTATION ###\n",
    "tic = time.process_time()\n",
    "dot = 0\n",
    "for i in range(len(x1)):\n",
    "    dot+= x1[i]*x2[i]\n",
    "toc = time.process_time()\n",
    "print (\"dot = \" + str(dot) + \"\\n ----- Computation time = \" + str(1000*(toc - tic)) + \"ms\")\n",
    "\n",
    "### VECTORIZED DOT PRODUCT OF VECTORS ###\n",
    "tic = time.process_time()\n",
    "dot = np.dot(x1.T,x2)\n",
    "toc = time.process_time()\n",
    "print (\"dot = \" + str(dot) + \"\\n ----- Computation time = \" + str(1000*(toc - tic)) + \"ms\")"
   ]
  },
  {
   "cell_type": "code",
   "execution_count": 19,
   "metadata": {},
   "outputs": [
    {
     "name": "stdout",
     "output_type": "stream",
     "text": [
      "[[4 1 6]\n",
      " [0 2 5]\n",
      " [2 1 4]]\n"
     ]
    },
    {
     "data": {
      "text/plain": [
       "array([4, 0, 2])"
      ]
     },
     "execution_count": 19,
     "metadata": {},
     "output_type": "execute_result"
    }
   ],
   "source": [
    "x3 = np.random.randint(0, 10, size=(3, 3))\n",
    "print(x3)\n",
    "x3[0:3,0]"
   ]
  },
  {
   "cell_type": "code",
   "execution_count": 28,
   "metadata": {},
   "outputs": [
    {
     "name": "stdout",
     "output_type": "stream",
     "text": [
      "[[[8 7 1]\n",
      "  [9 2 2]\n",
      "  [5 0 9]]\n",
      "\n",
      " [[8 8 5]\n",
      "  [1 7 4]\n",
      "  [7 5 4]]\n",
      "\n",
      " [[7 9 8]\n",
      "  [2 3 9]\n",
      "  [9 3 1]]]\n"
     ]
    },
    {
     "data": {
      "text/plain": [
       "array([[[8, 7],\n",
       "        [9, 2],\n",
       "        [5, 0]],\n",
       "\n",
       "       [[8, 8],\n",
       "        [1, 7],\n",
       "        [7, 5]],\n",
       "\n",
       "       [[7, 9],\n",
       "        [2, 3],\n",
       "        [9, 3]]])"
      ]
     },
     "execution_count": 28,
     "metadata": {},
     "output_type": "execute_result"
    }
   ],
   "source": [
    "x4 = np.random.randint(0, 10, size=(3, 3, 3))\n",
    "print(x4)\n",
    "x4[0:3, 0 :3, 0:2]"
   ]
  },
  {
   "cell_type": "code",
   "execution_count": 46,
   "metadata": {},
   "outputs": [
    {
     "name": "stdout",
     "output_type": "stream",
     "text": [
      "[[[0]\n",
      "  [1]\n",
      "  [2]]]\n",
      "(1, 3, 1)\n",
      "[0 1 2]\n",
      "[[0]\n",
      " [1]\n",
      " [2]]\n"
     ]
    }
   ],
   "source": [
    "x = np.array([[[0], [1], [2]]])\n",
    "print(x)\n",
    "\n",
    "print(x.shape)\n",
    "\n",
    "print(np.squeeze(x))\n",
    "\n",
    "print(np.squeeze(x, axis=0))"
   ]
  },
  {
   "cell_type": "code",
   "execution_count": null,
   "metadata": {},
   "outputs": [],
   "source": []
  }
 ],
 "metadata": {
  "kernelspec": {
   "display_name": "Python 3",
   "language": "python",
   "name": "python3"
  },
  "language_info": {
   "codemirror_mode": {
    "name": "ipython",
    "version": 3
   },
   "file_extension": ".py",
   "mimetype": "text/x-python",
   "name": "python",
   "nbconvert_exporter": "python",
   "pygments_lexer": "ipython3",
   "version": "3.5.2"
  }
 },
 "nbformat": 4,
 "nbformat_minor": 2
}
