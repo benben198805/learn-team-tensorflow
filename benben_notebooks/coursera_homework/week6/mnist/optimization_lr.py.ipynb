{
 "cells": [
  {
   "cell_type": "code",
   "execution_count": 69,
   "metadata": {},
   "outputs": [],
   "source": [
    "import tensorflow as tf\n",
    "import numpy as np\n",
    "from tensorflow.examples.tutorials.mnist import input_data\n",
    "import time"
   ]
  },
  {
   "cell_type": "code",
   "execution_count": 70,
   "metadata": {},
   "outputs": [],
   "source": [
    "# Define paramaters for the model\n",
    "learning_rate = 0.01\n",
    "batch_size = 128\n",
    "n_epochs = 10"
   ]
  },
  {
   "cell_type": "code",
   "execution_count": 71,
   "metadata": {},
   "outputs": [
    {
     "name": "stdout",
     "output_type": "stream",
     "text": [
      "Extracting ../data/mnist/train-images-idx3-ubyte.gz\n",
      "Extracting ../data/mnist/train-labels-idx1-ubyte.gz\n",
      "Extracting ../data/mnist/t10k-images-idx3-ubyte.gz\n",
      "Extracting ../data/mnist/t10k-labels-idx1-ubyte.gz\n"
     ]
    }
   ],
   "source": [
    "# Step 1: Read in data\n",
    "# using TF Learn's built in function to load MNIST data to the folder data/mnist\n",
    "mnist = input_data.read_data_sets('../data/mnist', one_hot=True) "
   ]
  },
  {
   "cell_type": "code",
   "execution_count": 72,
   "metadata": {},
   "outputs": [
    {
     "name": "stdout",
     "output_type": "stream",
     "text": [
      "label: [ 0.  0.  1.  0.  0.  0.  0.  0.  0.  0.]\n"
     ]
    },
    {
     "data": {
      "image/png": "[encoded data removed]",
      "text/plain": [
       "<matplotlib.figure.Figure at 0x7fbe2d8954e0>"
      ]
     },
     "metadata": {},
     "output_type": "display_data"
    }
   ],
   "source": [
    "import matplotlib.pyplot as plt;  \n",
    "# print('data:', mnist.test.images[1])\n",
    "example = mnist.test.images[1]\n",
    "example = example.reshape((28, 28))\n",
    "\n",
    "plt.figure(1)\n",
    "plt.imshow(example)  \n",
    "\n",
    "print('label:',mnist.test.labels[1])"
   ]
  },
  {
   "cell_type": "code",
   "execution_count": 74,
   "metadata": {
    "scrolled": true
   },
   "outputs": [
    {
     "name": "stdout",
     "output_type": "stream",
     "text": [
      "Average loss epoch 0: 4.550158170553354\n",
      "Average loss epoch 1: 3.6667636257785183\n",
      "Average loss epoch 2: 3.0991071504312795\n",
      "Average loss epoch 3: 2.6860673577635437\n",
      "Average loss epoch 4: 2.373814095150341\n",
      "Average loss epoch 5: 2.1233131340889386\n",
      "Average loss epoch 6: 1.925914789691116\n",
      "Average loss epoch 7: 1.7659459083508222\n",
      "Average loss epoch 8: 1.6326005122600458\n",
      "Average loss epoch 9: 1.5220286837824575\n",
      "[array([[ 0.72320378,  0.66868746,  0.71579754, ...,  0.58345783,\n",
      "         0.99333251,  0.20400238],\n",
      "       [ 0.58385193,  0.17200685,  0.0968678 , ...,  0.38021982,\n",
      "         0.13356638,  0.99035096],\n",
      "       [ 0.01107883,  0.3220979 ,  0.21486855, ...,  0.70850003,\n",
      "         0.48984551,  0.63822699],\n",
      "       ..., \n",
      "       [ 0.22534215,  0.40851331,  0.33976674, ...,  0.82307041,\n",
      "         0.78682375,  0.10214317],\n",
      "       [ 0.05903006,  0.82807446,  0.29510295, ...,  0.99949396,\n",
      "         0.98835528,  0.29688847],\n",
      "       [ 0.12194014,  0.1880151 ,  0.1579119 , ...,  0.20436609,\n",
      "         0.38668811,  0.27326524]], dtype=float32), array([[  5.27285098e-04,   5.44241339e-04,  -1.46807462e-04, ...,\n",
      "         -1.60484142e-05,  -5.67676558e-04,  -1.10181383e-04],\n",
      "       [  6.43838779e-04,   9.03045351e-04,  -3.51154653e-04, ...,\n",
      "          9.74442664e-05,  -7.65563222e-04,   1.26214974e-04],\n",
      "       [  7.60939496e-04,   6.86609885e-04,  -1.91314117e-04, ...,\n",
      "         -4.06926440e-04,  -5.22502582e-04,   1.19459452e-04],\n",
      "       ..., \n",
      "       [  3.95795010e-04,   6.82398851e-04,   1.18769720e-04, ...,\n",
      "         -1.59995747e-04,  -3.98276199e-04,   9.93618378e-05],\n",
      "       [  4.06225357e-04,   6.69372210e-04,  -2.12374653e-04, ...,\n",
      "          3.08260460e-05,  -4.72875428e-04,  -4.87107500e-05],\n",
      "       [  7.28462008e-04,   9.25139408e-04,  -4.29942505e-04, ...,\n",
      "         -2.66720366e-04,  -7.81830226e-04,   4.13339963e-04]], dtype=float32)]\n",
      "Total time: 6.172200918197632 seconds\n",
      "Optimization Finished!\n",
      "Accuracy 0.5193\n"
     ]
    }
   ],
   "source": [
    "\n",
    "\n",
    "# Step 2: create placeholders for features and labels\n",
    "# each image in the MNIST data is of shape 28*28 = 784\n",
    "# therefore, each image is represented with a 1x784 tensor\n",
    "# there are 10 classes for each image, corresponding to digits 0 - 9. \n",
    "\n",
    "X = tf.placeholder(tf.float32, [batch_size, 784], name=\"image\")\n",
    "Y = tf.placeholder(tf.float32, [batch_size, 10], name=\"label\")\n",
    "\n",
    "# Step 3: create weights and bias\n",
    "# weights and biases are initialized to 0\n",
    "# shape of w depends on the dimension of X and Y so that Y = X * w + b\n",
    "# shape of b depends on Y\n",
    "# tf.Variable(initial_value=None, trainable=True, collections=None,\n",
    "# name=None, dtype=None, ...)\n",
    "\n",
    "# X [1,128] -> Y [1,128]\n",
    "\n",
    "#  n * 50  50 x 128 \n",
    "\n",
    "\n",
    "W = tf.Variable(tf.random_uniform([784, 10]))\n",
    "\n",
    "b = tf.Variable(tf.zeros([batch_size, 10]))\n",
    "\n",
    "# Step 4: build model\n",
    "# the model that returns the logits.\n",
    "# this logits will be later passed through softmax layer\n",
    "# to get the probability distribution of possible label of the image\n",
    "# DO NOT DO SOFTMAX HERE\n",
    "# n * 784 * 784 * 10 = n * 10 \n",
    "\n",
    "logits = tf.matmul(X, W) + b\n",
    "\n",
    "# Step 5: define loss function\n",
    "# use cross entropy loss of the real labels with the softmax of logits\n",
    "# use the method:\n",
    "# tf.nn.softmax_cross_entropy_with_logits(logits, Y)\n",
    "# then use tf.reduce_mean to get the mean loss of the batch\n",
    "\n",
    "entropy = tf.nn.softmax_cross_entropy_with_logits(logits=logits, labels=Y)\n",
    "\n",
    "# computes the mean over all the examples in the batch\n",
    "loss = tf.reduce_mean(entropy)\n",
    "\n",
    "# Step 6: define training op\n",
    "# using gradient descent to minimize loss\n",
    "# optimizer = tf.train.RMSPropOptimizer(learning_rate=0.001).minimize(loss);\n",
    "optimizer = tf.train.GradientDescentOptimizer(learning_rate=0.001).minimize(loss);\n",
    "\n",
    "with tf.Session() as sess:\n",
    "    start_time = time.time()\n",
    "    sess.run(tf.global_variables_initializer())\t\n",
    "    n_batches = int(mnist.train.num_examples/batch_size)\n",
    "    for i in range(n_epochs): # train the model n_epochs times\n",
    "        total_loss = 0\n",
    "\n",
    "        for _ in range(n_batches):\n",
    "            X_batch, Y_batch = mnist.train.next_batch(batch_size)\n",
    "            # TO-DO: run optimizer + fetch loss_batch\n",
    "            _, loss_batch = sess.run([optimizer, loss], feed_dict={X:X_batch, Y:Y_batch})\n",
    "            # \n",
    "            total_loss += loss_batch\n",
    "        print('Average loss epoch {0}: {1}'.format(i, total_loss/n_batches))\n",
    "    \n",
    "    print(sess.run([W, b]))\n",
    "    print('Total time: {0} seconds'.format(time.time() - start_time))\n",
    "\n",
    "    print('Optimization Finished!') # should be around 0.35 after 25 epochs\n",
    "\n",
    "    # test the model\n",
    "    n_batches = int(mnist.test.num_examples/batch_size)\n",
    "    total_correct_preds = 0\n",
    "    for i in range(n_batches):\n",
    "        X_batch, Y_batch = mnist.test.next_batch(batch_size)\n",
    "        _, loss_batch, logits_batch = sess.run([optimizer, loss, logits], feed_dict={X: X_batch, Y:Y_batch}) \n",
    "        preds = tf.nn.softmax(logits_batch)\n",
    "        correct_preds = tf.equal(tf.argmax(preds, 1), tf.argmax(Y_batch, 1))\n",
    "        accuracy = tf.reduce_sum(tf.cast(correct_preds, tf.float32)) # need numpy.count_nonzero(boolarr) :(\n",
    "        total_correct_preds += sess.run(accuracy)\n",
    "\n",
    "    print('Accuracy {0}'.format(total_correct_preds/mnist.test.num_examples))"
   ]
  },
  {
   "cell_type": "markdown",
   "metadata": {},
   "source": [
    "## 不同优化方法的准确率\n",
    "* GradientDescentOptimizer:0.8429\n",
    "* AdadeltaOptimizer:0.7062\n",
    "* AdagradOptimizer:0.851\n",
    "* AdamOptimizer:0.924\n",
    "* FtrlOptimizer:0.8507\n",
    "* RMSPropOptimizer:0.9249\n",
    "\n",
    "## RMSPropOptimizer 不同学习率优化结果\n",
    "* 0.001: 0.9241\n",
    "* 0.005: 0.9258\n",
    "* 0.01:  0.9249\n",
    "\n",
    "\n",
    "## RMSPropOptimizer 不同迭代次数的结果\n",
    "learning_rate = 0.01\n",
    "\n",
    "* 10次：0.9241\n",
    "* 30次：0.9255\n",
    "* 100次：0.926"
   ]
  },
  {
   "cell_type": "code",
   "execution_count": null,
   "metadata": {},
   "outputs": [],
   "source": []
  }
 ],
 "metadata": {
  "kernelspec": {
   "display_name": "Python 3",
   "language": "python",
   "name": "python3"
  },
  "language_info": {
   "codemirror_mode": {
    "name": "ipython",
    "version": 3
   },
   "file_extension": ".py",
   "mimetype": "text/x-python",
   "name": "python",
   "nbconvert_exporter": "python",
   "pygments_lexer": "ipython3",
   "version": "3.5.2"
  }
 },
 "nbformat": 4,
 "nbformat_minor": 2
}
